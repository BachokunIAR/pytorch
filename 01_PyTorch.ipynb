{
  "nbformat": 4,
  "nbformat_minor": 0,
  "metadata": {
    "colab": {
      "provenance": [],
      "authorship_tag": "ABX9TyNE06dKcYvGIhuV0kdV0ALT",
      "include_colab_link": true
    },
    "kernelspec": {
      "name": "python3",
      "display_name": "Python 3"
    },
    "language_info": {
      "name": "python"
    }
  },
  "cells": [
    {
      "cell_type": "markdown",
      "metadata": {
        "id": "view-in-github",
        "colab_type": "text"
      },
      "source": [
        "<a href=\"https://colab.research.google.com/github/BachokunIAR/pytorch-deep-learning/blob/main/01_PyTorch.ipynb\" target=\"_parent\"><img src=\"https://colab.research.google.com/assets/colab-badge.svg\" alt=\"Open In Colab\"/></a>"
      ]
    },
    {
      "cell_type": "code",
      "execution_count": null,
      "metadata": {
        "id": "gxUERBcPYYOy"
      },
      "outputs": [],
      "source": [
        "what_were_covering = {1: \"data (prepare and load)\",\n",
        "    2: \"build model\",\n",
        "    3: \"fitting the model to data (training)\",\n",
        "    4: \"making predictions and evaluating a model (inference)\",\n",
        "    5: \"saving and loading a model\",\n",
        "    6: \"putting it all together\"\n",
        "}"
      ]
    },
    {
      "cell_type": "code",
      "source": [
        "import torch\n",
        "from torch import nn # nn contains all of PyTorch's building blocks for neural networks\n",
        "import matplotlib.pyplot as plt\n",
        "\n",
        "# Check PyTorch version\n",
        "torch.__version__"
      ],
      "metadata": {
        "colab": {
          "base_uri": "https://localhost:8080/",
          "height": 35
        },
        "id": "QD-DsmYAYct1",
        "outputId": "2e2754d1-05dc-4a90-f88f-980d49c2af30"
      },
      "execution_count": null,
      "outputs": [
        {
          "output_type": "execute_result",
          "data": {
            "text/plain": [
              "'2.1.0+cu118'"
            ],
            "application/vnd.google.colaboratory.intrinsic+json": {
              "type": "string"
            }
          },
          "metadata": {},
          "execution_count": 58
        }
      ]
    },
    {
      "cell_type": "markdown",
      "source": [
        "\n",
        "# 1. Data (preparing and loading)"
      ],
      "metadata": {
        "id": "lpl0vM4AZUdc"
      }
    },
    {
      "cell_type": "code",
      "source": [
        "# Create *known* parameters\n",
        "weight = 0.7\n",
        "bias = 0.3\n",
        "\n",
        "# Create data\n",
        "start = 0\n",
        "end = 1\n",
        "step = 0.02\n",
        "X = torch.arange(start, end, step).unsqueeze(dim=1)\n",
        "y = weight * X + bias\n",
        "\n",
        "X[:10], y[:10]"
      ],
      "metadata": {
        "colab": {
          "base_uri": "https://localhost:8080/"
        },
        "id": "8GWWPNoRZYdZ",
        "outputId": "376975d4-e9a8-4930-995c-7b6c081dd616"
      },
      "execution_count": null,
      "outputs": [
        {
          "output_type": "execute_result",
          "data": {
            "text/plain": [
              "(tensor([[0.0000],\n",
              "         [0.0200],\n",
              "         [0.0400],\n",
              "         [0.0600],\n",
              "         [0.0800],\n",
              "         [0.1000],\n",
              "         [0.1200],\n",
              "         [0.1400],\n",
              "         [0.1600],\n",
              "         [0.1800]]),\n",
              " tensor([[0.3000],\n",
              "         [0.3140],\n",
              "         [0.3280],\n",
              "         [0.3420],\n",
              "         [0.3560],\n",
              "         [0.3700],\n",
              "         [0.3840],\n",
              "         [0.3980],\n",
              "         [0.4120],\n",
              "         [0.4260]]))"
            ]
          },
          "metadata": {},
          "execution_count": 59
        }
      ]
    },
    {
      "cell_type": "code",
      "source": [
        "# Create train/test split\n",
        "train_split = int(0.8 * len(X)) # 80% of data used for training set, 20% for testing\n",
        "X_train, y_train = X[:train_split], y[:train_split]\n",
        "X_test, y_test = X[train_split:], y[train_split:]\n",
        "\n",
        "len(X_train), len(y_train), len(X_test), len(y_test)"
      ],
      "metadata": {
        "colab": {
          "base_uri": "https://localhost:8080/"
        },
        "id": "Zcm89Y1RaRgI",
        "outputId": "e9960589-053c-4cd1-e6ae-808aa24a045b"
      },
      "execution_count": null,
      "outputs": [
        {
          "output_type": "execute_result",
          "data": {
            "text/plain": [
              "(40, 40, 10, 10)"
            ]
          },
          "metadata": {},
          "execution_count": 60
        }
      ]
    },
    {
      "cell_type": "code",
      "source": [
        "def plot_predictions(train_data=X_train,\n",
        "                     train_labels=y_train,\n",
        "                     test_data=X_test,\n",
        "                     test_labels=y_test,\n",
        "                     predictions=None):\n",
        "  \"\"\"\n",
        "  Plots training data, test data and compares predictions.\n",
        "  \"\"\"\n",
        "  plt.figure(figsize=(10, 7))\n",
        "\n",
        "  # Plot training data in blue\n",
        "  plt.scatter(train_data, train_labels, c=\"r\", s=4, label=\"Training data\")\n",
        "\n",
        "  # Plot test data in green\n",
        "  plt.scatter(test_data, test_labels, c=\"g\", s=4, label=\"Testing data\")\n",
        "\n",
        "  if predictions is not None:\n",
        "    # Plot the predictions in red (predictions were made on the test data)\n",
        "    plt.scatter(test_data, predictions, c=\"b\", s=4, label=\"Predictions\")\n",
        "\n",
        "  # Show the legend\n",
        "  plt.legend(prop={\"size\": 14});"
      ],
      "metadata": {
        "id": "NfH-ub5_a1VH"
      },
      "execution_count": null,
      "outputs": []
    },
    {
      "cell_type": "code",
      "source": [
        "plot_predictions();"
      ],
      "metadata": {
        "colab": {
          "base_uri": "https://localhost:8080/",
          "height": 599
        },
        "id": "IYCUPjh0A9Uc",
        "outputId": "96be796b-71d2-4a36-f914-bca59fd210ee"
      },
      "execution_count": null,
      "outputs": [
        {
          "output_type": "display_data",
          "data": {
            "text/plain": [
              "<Figure size 1000x700 with 1 Axes>"
            ],
            "image/png": "[encoded data removed]"
          },
          "metadata": {}
        }
      ]
    },
    {
      "cell_type": "code",
      "source": [],
      "metadata": {
        "id": "obipubYOBERL"
      },
      "execution_count": null,
      "outputs": []
    },
    {
      "cell_type": "markdown",
      "source": [
        "\n",
        "# [2. Build model](https://)\n",
        "\n",
        "Now we've got some data, let's build a model to use the blue dots to predict the green dots.\n",
        "\n",
        "We're going to jump right in.\n",
        "\n",
        "We'll write the code first and then explain everything.\n",
        "\n",
        "Let's replicate a standard linear regression model using pure PyTorch."
      ],
      "metadata": {
        "id": "EeH2zjh_BN76"
      }
    },
    {
      "cell_type": "code",
      "source": [
        "# Create a Linear Regression model class\n",
        "class LinearRegressionModel(nn.Module): # <- almost everything in PyTorch is a nn.Module (think of this as neural network lego blocks)\n",
        "    def __init__(self):\n",
        "        super().__init__()\n",
        "        self.weights = nn.Parameter(torch.randn(1, # <- start with random weights (this will get adjusted as the model learns)\n",
        "                                                dtype=torch.float), # <- PyTorch loves float32 by default\n",
        "                                   requires_grad=True) # <- can we update this value with gradient descent?)\n",
        "\n",
        "        self.bias = nn.Parameter(torch.randn(1, # <- start with random bias (this will get adjusted as the model learns)\n",
        "                                            dtype=torch.float), # <- PyTorch loves float32 by default\n",
        "                                requires_grad=True) # <- can we update this value with gradient descent?))\n",
        "\n",
        "    # Forward defines the computation in the model\n",
        "    def forward(self, x: torch.Tensor) -> torch.Tensor: # <- \"x\" is the input data (e.g. training/testing features)\n",
        "        return self.weights * x + self.bias # <- this is the linear regression formula (y = m*x + b)"
      ],
      "metadata": {
        "id": "pqdT_gDSBRJS"
      },
      "execution_count": null,
      "outputs": []
    },
    {
      "cell_type": "code",
      "source": [],
      "metadata": {
        "id": "AE4vfLik48bR"
      },
      "execution_count": null,
      "outputs": []
    },
    {
      "cell_type": "markdown",
      "source": [
        "# PyTorch model building essentials"
      ],
      "metadata": {
        "id": "fjjWnDgGBmbG"
      }
    },
    {
      "cell_type": "code",
      "source": [
        "# Set manual seed since nn.Parameter are randomly initialzied\n",
        "torch.manual_seed(42)\n",
        "\n",
        "# Create an instance of the model (this is a subclass of nn.Module that contains nn.Parameter(s))\n",
        "model_0 = LinearRegressionModel()\n",
        "\n",
        "# Check the nn.Parameter(s) within the nn.Module subclass we created\n",
        "list(model_0.parameters())"
      ],
      "metadata": {
        "colab": {
          "base_uri": "https://localhost:8080/"
        },
        "id": "4RB0gQ_kCT4A",
        "outputId": "32f09f52-5614-467d-bbf4-34eacf9f792c"
      },
      "execution_count": null,
      "outputs": [
        {
          "output_type": "execute_result",
          "data": {
            "text/plain": [
              "[Parameter containing:\n",
              " tensor([0.3367], requires_grad=True),\n",
              " Parameter containing:\n",
              " tensor([0.1288], requires_grad=True)]"
            ]
          },
          "metadata": {},
          "execution_count": 64
        }
      ]
    },
    {
      "cell_type": "code",
      "source": [
        "# List named parameters\n",
        "model_0.state_dict()"
      ],
      "metadata": {
        "colab": {
          "base_uri": "https://localhost:8080/"
        },
        "id": "V0Vog9q_DFeJ",
        "outputId": "f3ee8ab4-ae06-42d7-c104-9b22d557c2a8"
      },
      "execution_count": null,
      "outputs": [
        {
          "output_type": "execute_result",
          "data": {
            "text/plain": [
              "OrderedDict([('weights', tensor([0.3367])), ('bias', tensor([0.1288]))])"
            ]
          },
          "metadata": {},
          "execution_count": 65
        }
      ]
    },
    {
      "cell_type": "markdown",
      "source": [
        "## Making predictions using torch.inference_mode()"
      ],
      "metadata": {
        "id": "r03mckaIIKog"
      }
    },
    {
      "cell_type": "code",
      "source": [
        "# Make predictions with model\n",
        "with torch.inference_mode():\n",
        "    y_preds = model_0(X_test)\n",
        "\n",
        "# Note: in older PyTorch code you might also see torch.no_grad()\n",
        "# with torch.no_grad():\n",
        "#   y_preds = model_0(X_test)"
      ],
      "metadata": {
        "id": "y7WXcUxVIQrv"
      },
      "execution_count": null,
      "outputs": []
    },
    {
      "cell_type": "code",
      "source": [
        "# Check the predictions\n",
        "print(f\"Number of testing samples: {len(X_test)}\")\n",
        "print(f\"Number of predictions made: {len(y_preds)}\")\n",
        "print(f\"Predicted values:\\n{y_preds}\")"
      ],
      "metadata": {
        "colab": {
          "base_uri": "https://localhost:8080/"
        },
        "id": "12KAaUIdJMVP",
        "outputId": "7d21b83a-842c-474d-911c-de6624409f79"
      },
      "execution_count": null,
      "outputs": [
        {
          "output_type": "stream",
          "name": "stdout",
          "text": [
            "Number of testing samples: 10\n",
            "Number of predictions made: 10\n",
            "Predicted values:\n",
            "tensor([[0.3982],\n",
            "        [0.4049],\n",
            "        [0.4116],\n",
            "        [0.4184],\n",
            "        [0.4251],\n",
            "        [0.4318],\n",
            "        [0.4386],\n",
            "        [0.4453],\n",
            "        [0.4520],\n",
            "        [0.4588]])\n"
          ]
        }
      ]
    },
    {
      "cell_type": "code",
      "source": [
        "plot_predictions(predictions = y_preds)"
      ],
      "metadata": {
        "colab": {
          "base_uri": "https://localhost:8080/",
          "height": 599
        },
        "id": "64kW7pe2Jm89",
        "outputId": "e58e1bd6-25b4-4288-c99a-88f9ce6913f6"
      },
      "execution_count": null,
      "outputs": [
        {
          "output_type": "display_data",
          "data": {
            "text/plain": [
              "<Figure size 1000x700 with 1 Axes>"
            ],
            "image/png": "[encoded data removed]"
          },
          "metadata": {}
        }
      ]
    },
    {
      "cell_type": "code",
      "source": [],
      "metadata": {
        "id": "43nQ2uMMJ67N"
      },
      "execution_count": null,
      "outputs": []
    },
    {
      "cell_type": "markdown",
      "source": [
        "## `3. Train Model\n",
        "# Creating a loss function and optimizer in PyTorch\n",
        "For our problem, since we're predicting a number, let's use MAE (which is under torch.nn.L1Loss()) in PyTorch as our loss function."
      ],
      "metadata": {
        "id": "BCR8RMnHPXRl"
      }
    },
    {
      "cell_type": "code",
      "source": [
        "# Create the loss function\n",
        "loss_fn = nn.L1Loss() # MAE loss is same as L1Loss\n",
        "\n",
        "# Create the optimizer\n",
        "optimizer = torch.optim.SGD(params=model_0.parameters(),\n",
        "                            # parameters of target model to optimize\n",
        "                            lr=0.01)\n",
        "# learning rate (how much the optimizer should\n",
        "#change parameters at each step, higher=more (less stable), lower=less (might take a long time))"
      ],
      "metadata": {
        "id": "LYwsrGeGPbGO"
      },
      "execution_count": null,
      "outputs": []
    },
    {
      "cell_type": "markdown",
      "source": [
        "# PyTorch testing loop"
      ],
      "metadata": {
        "id": "Nw0a5BPLWpl0"
      }
    },
    {
      "cell_type": "code",
      "source": [
        "torch.manual_seed(42)\n",
        "\n",
        "# Set the number of epochs (how many times the model will\n",
        "#pass over the training data)\n",
        "epochs = 100\n",
        "\n",
        "# Create empty loss lists to track values\n",
        "train_loss_values = []\n",
        "test_loss_values = []\n",
        "epoch_count = []\n",
        "\n",
        "for epoch in range(epochs):\n",
        "    ### Training\n",
        "    # Put model in training mode (this is the default state of a model)\n",
        "    model_0.train()\n",
        "\n",
        "    # 1. Forward pass on train data using the forward() method inside\n",
        "    y_pred = model_0(X_train)\n",
        "    # print(y_pred)\n",
        "\n",
        "    # 2. Calculate the loss (how different are our models predictions\n",
        "    #to the ground truth)\n",
        "    loss = loss_fn(y_pred, y_train)\n",
        "\n",
        "    # 3. Zero grad of the optimizer\n",
        "    optimizer.zero_grad()\n",
        "    # 4. Loss backwards\n",
        "    loss.backward()\n",
        "\n",
        "    # 5. Progress the optimizer\n",
        "    optimizer.step()\n",
        "    ### Testing\n",
        "    # Put the model in evaluation mode\n",
        "    model_0.eval()\n",
        "\n",
        "    with torch.inference_mode():\n",
        "      # 1. Forward pass on test data\n",
        "      test_pred = model_0(X_test)\n",
        "\n",
        "      # 2. Caculate loss on test data\n",
        "      test_loss = loss_fn(test_pred, y_test.type(torch.float))\n",
        "      # predictions come in torch.float datatype, so comparisons\n",
        "      #need to be done with tensors of the same type\n",
        "\n",
        "      # Print out what's happening\n",
        "      if epoch % 10 == 0:\n",
        "            epoch_count.append(epoch)\n",
        "            train_loss_values.append(loss.detach().numpy())\n",
        "            test_loss_values.append(test_loss.detach().numpy())\n",
        "            print(f\"Epoch: {epoch} | MAE Train Loss: {loss} | MAE Test Loss: {test_loss} \")"
      ],
      "metadata": {
        "colab": {
          "base_uri": "https://localhost:8080/"
        },
        "id": "AwHsObLmVtyQ",
        "outputId": "22958e93-5f93-4081-ac1e-be42b3a1e1ee"
      },
      "execution_count": null,
      "outputs": [
        {
          "output_type": "stream",
          "name": "stdout",
          "text": [
            "Epoch: 0 | MAE Train Loss: 0.31288138031959534 | MAE Test Loss: 0.48106518387794495 \n",
            "Epoch: 10 | MAE Train Loss: 0.1976713240146637 | MAE Test Loss: 0.3463551998138428 \n",
            "Epoch: 20 | MAE Train Loss: 0.08908725529909134 | MAE Test Loss: 0.21729660034179688 \n",
            "Epoch: 30 | MAE Train Loss: 0.053148526698350906 | MAE Test Loss: 0.14464017748832703 \n",
            "Epoch: 40 | MAE Train Loss: 0.04543796554207802 | MAE Test Loss: 0.11360953003168106 \n",
            "Epoch: 50 | MAE Train Loss: 0.04167863354086876 | MAE Test Loss: 0.09919948130846024 \n",
            "Epoch: 60 | MAE Train Loss: 0.03818932920694351 | MAE Test Loss: 0.08886633068323135 \n",
            "Epoch: 70 | MAE Train Loss: 0.03476089984178543 | MAE Test Loss: 0.0805937647819519 \n",
            "Epoch: 80 | MAE Train Loss: 0.03132382780313492 | MAE Test Loss: 0.07232122868299484 \n",
            "Epoch: 90 | MAE Train Loss: 0.02788739837706089 | MAE Test Loss: 0.06473556160926819 \n"
          ]
        }
      ]
    },
    {
      "cell_type": "code",
      "source": [
        "plt.plot(epoch_count, train_loss_values,label = 'Train loss')\n",
        "plt.plot(epoch_count,test_loss_values, label = 'Test loss')\n",
        "plt.title('Traing and test loss curves')\n",
        "plt.ylabel('Loss')\n",
        "plt.xlabel('Epochs')\n",
        "plt.legend()"
      ],
      "metadata": {
        "colab": {
          "base_uri": "https://localhost:8080/",
          "height": 489
        },
        "id": "arCMo78YgBsJ",
        "outputId": "8f88da28-cbe0-4975-c726-a867abcc5df4"
      },
      "execution_count": null,
      "outputs": [
        {
          "output_type": "execute_result",
          "data": {
            "text/plain": [
              "<matplotlib.legend.Legend at 0x7c1a5a28b5b0>"
            ]
          },
          "metadata": {},
          "execution_count": 71
        },
        {
          "output_type": "display_data",
          "data": {
            "text/plain": [
              "<Figure size 640x480 with 1 Axes>"
            ],
            "image/png": "[encoded data removed]"
          },
          "metadata": {}
        }
      ]
    },
    {
      "cell_type": "code",
      "source": [
        "# Find our model's learned parameters\n",
        "print(\"The model learned the following values for weights and bias:\")\n",
        "print(model_0.state_dict())\n",
        "print(\"\\nAnd the original values for weights and bias are:\")\n",
        "print(f\"weights: {weight}, bias: {bias}\")"
      ],
      "metadata": {
        "colab": {
          "base_uri": "https://localhost:8080/"
        },
        "id": "Xxb5pNwlhENC",
        "outputId": "c95cd0d2-29f8-4432-ce97-a6d7ffb5c2d8"
      },
      "execution_count": null,
      "outputs": [
        {
          "output_type": "stream",
          "name": "stdout",
          "text": [
            "The model learned the following values for weights and bias:\n",
            "OrderedDict([('weights', tensor([0.5784])), ('bias', tensor([0.3513]))])\n",
            "\n",
            "And the original values for weights and bias are:\n",
            "weights: 0.7, bias: 0.3\n"
          ]
        }
      ]
    },
    {
      "cell_type": "markdown",
      "source": [
        "# 4. Making predictions with a trained PyTorch model (inference)\n",
        "\n",
        "There are three things to remember when making predictions (also called performing inference) with a PyTorch model:\n",
        "1. Set the model in evaluation mode (model.eval())\n",
        "2. Make the predictions using the inference mode context manager (with torch.inference_mode(): ...).\n",
        "3. All predictions should be made with objects on the same device (e.g. data and model on GPU only or data and model on CPU only)."
      ],
      "metadata": {
        "id": "6HSbKiyvktfG"
      }
    },
    {
      "cell_type": "markdown",
      "source": [
        "The first two items make sure all helpful calculations and settings PyTorch uses behind the scenes during training but aren't necessary for inference are turned off (this results in faster computation). And the third ensures that you won't run into cross-device errors."
      ],
      "metadata": {
        "id": "z1Q-0dIXlk03"
      }
    },
    {
      "cell_type": "code",
      "source": [
        "# 1. Set the model in evaluation mode\n",
        "model_0.eval()\n",
        "\n",
        "# 2. Setup the inference mode context manager\n",
        "with torch.inference_mode():\n",
        "  # 3. Make sure the calculations are done with the model and data on the same device\n",
        "  # in our case, we haven't setup device-agnostic code yet so our data and model are\n",
        "  # on the CPU by default.\n",
        "  # model_0.to(device)\n",
        "  # X_test = X_test.to(device)\n",
        "  y_preds = model_0(X_test)\n",
        "y_preds"
      ],
      "metadata": {
        "colab": {
          "base_uri": "https://localhost:8080/"
        },
        "id": "PQeYU_ydkhZR",
        "outputId": "39aeb7e2-62b3-4676-8711-08593bad187f"
      },
      "execution_count": null,
      "outputs": [
        {
          "output_type": "execute_result",
          "data": {
            "text/plain": [
              "tensor([[0.8141],\n",
              "        [0.8256],\n",
              "        [0.8372],\n",
              "        [0.8488],\n",
              "        [0.8603],\n",
              "        [0.8719],\n",
              "        [0.8835],\n",
              "        [0.8950],\n",
              "        [0.9066],\n",
              "        [0.9182]])"
            ]
          },
          "metadata": {},
          "execution_count": 73
        }
      ]
    },
    {
      "cell_type": "code",
      "source": [
        "plot_predictions(predictions = y_preds)"
      ],
      "metadata": {
        "colab": {
          "base_uri": "https://localhost:8080/",
          "height": 599
        },
        "id": "xs9f6kNplrt7",
        "outputId": "755b2e40-635b-4e0d-9c24-c416c89f487c"
      },
      "execution_count": null,
      "outputs": [
        {
          "output_type": "display_data",
          "data": {
            "text/plain": [
              "<Figure size 1000x700 with 1 Axes>"
            ],
            "image/png": "[encoded data removed]"
          },
          "metadata": {}
        }
      ]
    },
    {
      "cell_type": "markdown",
      "source": [
        "# 5. Saving and loading a PyTorch model"
      ],
      "metadata": {
        "id": "4ll3T7w1074w"
      }
    },
    {
      "cell_type": "markdown",
      "source": [
        "If you've trained a PyTorch model, chances are you'll want to save it and export it somewhere.\n",
        "\n",
        "As in, you might train it on Google Colab or your local machine with a GPU but you'd like to now export it to some sort of application where others can use it.\n",
        "\n",
        "Or maybe you'd like to save your progress on a model and come back and load it back later.\n",
        "\n",
        "For saving and loading models in PyTorch, there are three main methods you should be aware of (all of below have been taken from the PyTorch saving and loading models guide):\n",
        "\n",
        "\n",
        "1. Torch.save : Saves a serialized object to disk using Python's pickle utility. Models, tensors and various other Python objects like dictionaries can be saved using torch.save.\n",
        "\n",
        "2. torch.load : Uses pickle's unpickling features to deserialize and load pickled Python object files (like models, tensors or dictionaries) into memory. You can also set which device to load the object to (CPU, GPU etc).\n",
        "\n",
        "3. torch.nn.Module.load_state_dict : Loads a model's parameter dictionary (model.state_dict()) using a saved state_dict() object.\n",
        "\n",
        "# Saving a PyTorch model's state_dict()\n",
        "\n",
        "The recommended way for saving and loading a model for inference (making predictions) is by saving and loading a model's state_dict().\n",
        "see steps:\n",
        "\n",
        "1. We'll create a directory for saving models to called models using Python's pathlib module.\n",
        "2. We'll create a file path to save the model to.\n",
        "3. We'll call torch.save(obj, f) where obj is the target model's state_dict() and f is the filename of where to save the model."
      ],
      "metadata": {
        "id": "DIli6iKi14PC"
      }
    },
    {
      "cell_type": "code",
      "source": [
        "from pathlib import Path\n",
        "# 1. create model directory\n",
        "MODEL_PATH = Path('models')\n",
        "MODEL_PATH.mkdir(parents=True,exist_ok=True)\n",
        "\n",
        "#2 create model save path\n",
        "MODEL_NAME = '01_pytorch_workflow_model_0.pth'\n",
        "MODEL_SAVE_PATH = MODEL_PATH/MODEL_NAME\n",
        "\n",
        "# 3 save  the model state dict\n",
        "print(f\"Saving model to : {MODEL_SAVE_PATH}\")\n",
        "torch.save(obj=model_0.state_dict(),\n",
        "           # only saving the state_dict() only saves the models learned parameters\n",
        "           f = MODEL_SAVE_PATH)"
      ],
      "metadata": {
        "id": "-dTJobojl1B4",
        "colab": {
          "base_uri": "https://localhost:8080/"
        },
        "outputId": "759e7e10-3e76-4052-a3b9-9f70a9b7e522"
      },
      "execution_count": null,
      "outputs": [
        {
          "output_type": "stream",
          "name": "stdout",
          "text": [
            "Saving model to : models/01_pytorch_workflow_model_0.pth\n"
          ]
        }
      ]
    },
    {
      "cell_type": "code",
      "source": [
        "# Checking the save file path\n",
        "!ls -l models/01_pytorch_workflow_model_0.pth"
      ],
      "metadata": {
        "colab": {
          "base_uri": "https://localhost:8080/"
        },
        "id": "GKlTRAhf601S",
        "outputId": "4d928edc-8092-4aa4-a986-f4bd504e5b45"
      },
      "execution_count": null,
      "outputs": [
        {
          "output_type": "stream",
          "name": "stdout",
          "text": [
            "-rw-r--r-- 1 root root 1680 Oct 22 18:47 models/01_pytorch_workflow_model_0.pth\n"
          ]
        }
      ]
    },
    {
      "cell_type": "markdown",
      "source": [
        "# Loading a saved PyTorch model's state_dict()"
      ],
      "metadata": {
        "id": "9mVw6NlU7rIM"
      }
    },
    {
      "cell_type": "code",
      "source": [
        "# Instantiate a new instance of our model (this will be instantiated with random weights)\n",
        "loaded_model_0 = LinearRegressionModel()\n",
        "\n",
        "# Load the state_dict of our saved model (this will update the new instance of our model with trained weights)\n",
        "loaded_model_0.load_state_dict(torch.load(f=MODEL_SAVE_PATH))"
      ],
      "metadata": {
        "colab": {
          "base_uri": "https://localhost:8080/"
        },
        "id": "SDHD0OqZ7lJ0",
        "outputId": "6e38b020-e057-488e-c03d-5d1c5852d67c"
      },
      "execution_count": null,
      "outputs": [
        {
          "output_type": "execute_result",
          "data": {
            "text/plain": [
              "<All keys matched successfully>"
            ]
          },
          "metadata": {},
          "execution_count": 77
        }
      ]
    },
    {
      "cell_type": "code",
      "source": [
        "#Pytorch infererance\n",
        "#1. put the loaded model into evaluation\n",
        "loaded_model_0.eval()\n",
        "# 2 use the inferenace mode context manager to make predictions\n",
        "with torch.inference_mode():\n",
        "  loaded_model_preds = loaded_model_0(X_test) # perform a forward pass on the test data with the loaded model\n"
      ],
      "metadata": {
        "id": "AfWfc6af8iYJ"
      },
      "execution_count": null,
      "outputs": []
    },
    {
      "cell_type": "code",
      "source": [
        "# Compare previous model predictions with loaded model predictions (these should be the same)\n",
        "y_preds == loaded_model_preds"
      ],
      "metadata": {
        "colab": {
          "base_uri": "https://localhost:8080/"
        },
        "id": "70_smuNZ9nk4",
        "outputId": "766031ad-2d53-4728-a6d4-8f906fb86174"
      },
      "execution_count": null,
      "outputs": [
        {
          "output_type": "execute_result",
          "data": {
            "text/plain": [
              "tensor([[True],\n",
              "        [True],\n",
              "        [True],\n",
              "        [True],\n",
              "        [True],\n",
              "        [True],\n",
              "        [True],\n",
              "        [True],\n",
              "        [True],\n",
              "        [True]])"
            ]
          },
          "metadata": {},
          "execution_count": 79
        }
      ]
    },
    {
      "cell_type": "code",
      "source": [],
      "metadata": {
        "id": "IMjLvpTz94dJ"
      },
      "execution_count": null,
      "outputs": []
    },
    {
      "cell_type": "markdown",
      "source": [
        "# 6. Putting it all\n",
        "\n",
        "T\n",
        "\n",
        "```\n",
        "`# This is formatted as code`\n",
        "```\n",
        "\n",
        "his time we'll make our code device agnostic (so if there's a GPU available, it'll use it and if not, it will default to the CPU)."
      ],
      "metadata": {
        "id": "DjRKyNue-X6L"
      }
    },
    {
      "cell_type": "code",
      "source": [
        "import torch\n",
        "from torch import nn # nn contains all of Pytorch's building blocks for neaural networks\n",
        "import matplotlib.pyplot as plt\n",
        "\n"
      ],
      "metadata": {
        "id": "_lQB3rGM--Sm"
      },
      "execution_count": null,
      "outputs": []
    },
    {
      "cell_type": "code",
      "source": [
        "# setting device agnistic code\n",
        "# Setup device agnostic code\n",
        "device = \"cuda\" if torch.cuda.is_available() else \"cpu\"\n",
        "print(f\"Using device: {device}\")"
      ],
      "metadata": {
        "colab": {
          "base_uri": "https://localhost:8080/"
        },
        "id": "K-RPX5oN_pvB",
        "outputId": "193f9ae8-1eb2-43fc-e2c9-d3133331c113"
      },
      "execution_count": null,
      "outputs": [
        {
          "output_type": "stream",
          "name": "stdout",
          "text": [
            "Using device: cpu\n"
          ]
        }
      ]
    },
    {
      "cell_type": "code",
      "source": [],
      "metadata": {
        "id": "rUiCIMOBIN6U"
      },
      "execution_count": null,
      "outputs": []
    },
    {
      "cell_type": "markdown",
      "source": [
        "# 6.1 DATA\n",
        "we create our own data\n",
        "\n",
        "Then we'll make a range of numbers between 0 and 1, these will be our X values."
      ],
      "metadata": {
        "id": "ZcTLcxa_Jpl9"
      }
    },
    {
      "cell_type": "code",
      "source": [
        "# create weight and bias\n",
        "weight = 0.9\n",
        "bias = 0.5\n",
        "\n",
        "# create range values\n",
        "\n",
        "start= 0\n",
        "end = 1\n",
        "step = 0.02\n",
        "# create X and y (features and labels)\n",
        "x = torch.arange(start,end,step).unsqueeze(dim=1)\n",
        "y = weight*x + bias\n",
        "x[:10],y[:10]"
      ],
      "metadata": {
        "colab": {
          "base_uri": "https://localhost:8080/"
        },
        "id": "aFfZwbmIJyHE",
        "outputId": "a82030fc-9f10-493e-d9bc-2e22991edb55"
      },
      "execution_count": null,
      "outputs": [
        {
          "output_type": "execute_result",
          "data": {
            "text/plain": [
              "(tensor([[0.0000],\n",
              "         [0.0200],\n",
              "         [0.0400],\n",
              "         [0.0600],\n",
              "         [0.0800],\n",
              "         [0.1000],\n",
              "         [0.1200],\n",
              "         [0.1400],\n",
              "         [0.1600],\n",
              "         [0.1800]]),\n",
              " tensor([[0.5000],\n",
              "         [0.5180],\n",
              "         [0.5360],\n",
              "         [0.5540],\n",
              "         [0.5720],\n",
              "         [0.5900],\n",
              "         [0.6080],\n",
              "         [0.6260],\n",
              "         [0.6440],\n",
              "         [0.6620]]))"
            ]
          },
          "metadata": {},
          "execution_count": 82
        }
      ]
    },
    {
      "cell_type": "code",
      "source": [
        "# split data\n",
        "train_split = int(0.8*len(x))\n",
        "X_train, y_train = x[:train_split],y[:train_split]\n",
        "x_test, y_test = x[train_split:],y[train_split:]\n",
        "\n",
        "len(X_train),len(y_train),len(x_test),len(y_test)"
      ],
      "metadata": {
        "colab": {
          "base_uri": "https://localhost:8080/"
        },
        "id": "p2uAd3BRhP3P",
        "outputId": "cffeafc7-1431-402a-e221-695e5c4ab295"
      },
      "execution_count": null,
      "outputs": [
        {
          "output_type": "execute_result",
          "data": {
            "text/plain": [
              "(40, 40, 10, 10)"
            ]
          },
          "metadata": {},
          "execution_count": 83
        }
      ]
    },
    {
      "cell_type": "code",
      "source": [
        "# Note: If you've reset your runtime, this function won't work,\n",
        "# you'll have to rerun the cell above where it's instantiated.\n",
        "\n",
        "plot_predictions(X_train,y_train,x_test, y_test)"
      ],
      "metadata": {
        "colab": {
          "base_uri": "https://localhost:8080/",
          "height": 599
        },
        "id": "ElYK8rKtiaPO",
        "outputId": "32f9fc5d-35e3-4e88-8f0b-e2c871ffa506"
      },
      "execution_count": null,
      "outputs": [
        {
          "output_type": "display_data",
          "data": {
            "text/plain": [
              "<Figure size 1000x700 with 1 Axes>"
            ],
            "image/png": "[encoded data removed]"
          },
          "metadata": {}
        }
      ]
    },
    {
      "cell_type": "code",
      "source": [],
      "metadata": {
        "id": "xgSZ5QfVi3nu"
      },
      "execution_count": null,
      "outputs": []
    },
    {
      "cell_type": "markdown",
      "source": [
        "\n",
        "# 6.2 Building a PyTorch linear model\n",
        "\n",
        "We've got some data, now it's time to make a model.\n",
        "\n",
        "We'll create the same style of model as before except this time, instead of defining the weight and bias parameters of our model manually using nn.Parameter(), we'll use nn.Linear(in_features, out_features) to do it for us.\n",
        "\n",
        "Where in_features is the number of dimensions your input data has and out_features is the number of dimensions you'd like it to be output to.\n",
        "\n",
        "In our case, both of these are 1 since our data has 1 input feature (X) per label (y)."
      ],
      "metadata": {
        "id": "9Y_bTe9FjHNm"
      }
    },
    {
      "cell_type": "code",
      "source": [
        "# Subclass nn.Module to make our model\n",
        "\n",
        "class LinearRegressionModelV2(nn.Module):\n",
        "  def __init__(self) -> None:\n",
        "    super().__init__()\n",
        "     # Use nn.Linear() for creating the model parameters\n",
        "    self.linear_layer = nn.Linear(in_features=1,\n",
        "                                   out_features=1)\n",
        "     # Define the forward computation (input data x flows through nn.Linear())\n",
        "\n",
        "  def forward(self,x:torch.Tensor)-> torch.Tensor:\n",
        "    return self.linear_layer(x)\n",
        "\n",
        "# Set the manual seed when creating the model (this isn't always need but is used\n",
        "#for demonstrative purposes, try commenting it out and seeing what happens)\n",
        "torch.manual_seed(0)\n",
        "model_1 = LinearRegressionModelV2()\n",
        "model_1, model_1.state_dict()"
      ],
      "metadata": {
        "colab": {
          "base_uri": "https://localhost:8080/"
        },
        "id": "SJxFeYlIjZ3d",
        "outputId": "f5caa6d7-0c85-4349-fdaa-18b470cff95f"
      },
      "execution_count": null,
      "outputs": [
        {
          "output_type": "execute_result",
          "data": {
            "text/plain": [
              "(LinearRegressionModelV2(\n",
              "   (linear_layer): Linear(in_features=1, out_features=1, bias=True)\n",
              " ),\n",
              " OrderedDict([('linear_layer.weight', tensor([[-0.0075]])),\n",
              "              ('linear_layer.bias', tensor([0.5364]))]))"
            ]
          },
          "metadata": {},
          "execution_count": 85
        }
      ]
    },
    {
      "cell_type": "markdown",
      "source": [
        "Now let's put our model on the GPU (if it's available).\n",
        "\n",
        "We can change the device our PyTorch objects are on using .to(device).\n",
        "\n",
        "First let's check the model's current device."
      ],
      "metadata": {
        "id": "vKmQiVcsnIDO"
      }
    },
    {
      "cell_type": "code",
      "source": [
        "# check model device\n",
        "\n",
        "next(model_1.parameters()).device"
      ],
      "metadata": {
        "colab": {
          "base_uri": "https://localhost:8080/"
        },
        "id": "tJ8Bj7hjl8ng",
        "outputId": "823ba5ad-8f59-4fb8-95ef-bdd64d10aed5"
      },
      "execution_count": null,
      "outputs": [
        {
          "output_type": "execute_result",
          "data": {
            "text/plain": [
              "device(type='cpu')"
            ]
          },
          "metadata": {},
          "execution_count": 86
        }
      ]
    },
    {
      "cell_type": "markdown",
      "source": [
        "# We then write the following code to send it to GPU if **availabe**"
      ],
      "metadata": {
        "id": "KDOvBIvIngKu"
      }
    },
    {
      "cell_type": "code",
      "source": [
        "# Set model to GPU if it's availalble, otherwise it'll default to CPU\n",
        "model_1.to(device) # the device variable was set above to be \"cuda\" if available or \"cpu\" if not\n",
        "next(model_1.parameters()).device"
      ],
      "metadata": {
        "colab": {
          "base_uri": "https://localhost:8080/"
        },
        "id": "S1G9Hkbznask",
        "outputId": "d80d7299-9685-44b0-80fe-0eedfb8d4e60"
      },
      "execution_count": null,
      "outputs": [
        {
          "output_type": "execute_result",
          "data": {
            "text/plain": [
              "device(type='cpu')"
            ]
          },
          "metadata": {},
          "execution_count": 87
        }
      ]
    },
    {
      "cell_type": "markdown",
      "source": [
        "# 6.3 Training\n",
        "Building a training and test loop\n",
        "\n"
      ],
      "metadata": {
        "id": "ojW8K8dCoPj1"
      }
    },
    {
      "cell_type": "code",
      "source": [
        "# craete the loss function\n",
        "loss_fn = nn.L1Loss()\n",
        "# create optimizer\n",
        "optimizer = torch.optim.SGD(params= model_1.parameters(),# optimize newly created model's parameters\n",
        "                            lr = 0.01)"
      ],
      "metadata": {
        "id": "rf4A0nmmoBy1"
      },
      "execution_count": null,
      "outputs": []
    },
    {
      "cell_type": "code",
      "source": [
        "torch.manual_seed(0)\n",
        "\n",
        "# set the number of epochs\n",
        "epochs = 20000\n",
        "\n",
        "# Put data on the available device\n",
        "# Without this, error will happen (not all model/data on device)\n",
        "\n",
        "x_train = X_train.to(device)\n",
        "x_test = x_test.to(device)\n",
        "\n",
        "y_train = y_train.to(device)\n",
        "y_test = y_test.to(device)\n",
        "\n",
        "\n",
        "for epoch in range(epochs):\n",
        "  model_1.train() # train mode is on by default after construction\n",
        "\n",
        "  # Forward pass\n",
        "  y_pred = model_1(X_train)\n",
        "\n",
        "  # 2 Calcukate loss\n",
        "  loss = loss_fn(y_pred,y_train)\n",
        "\n",
        "  # zero grad optimzer\n",
        "  optimizer.zero_grad()\n",
        "  # 4 Loss backward\n",
        "  loss.backward()\n",
        "\n",
        "  # 5. Step optimizer\n",
        "  optimizer.step()\n",
        "\n",
        "  ### Testing the model\n",
        "  model_1.eval() # put the model in evaluation mode for testing (inference)\n",
        "    # 1. Forward pass\n",
        "\n",
        "  with torch.inference_mode():\n",
        "    test_pred = model_1(X_test)\n",
        "    # Calculate the loss\n",
        "    test_loss = loss_fn(test_pred , y_test)\n",
        "\n",
        "  if epoch % 200 == 0:\n",
        "    print(f'Epoch: {epoch} | Train loss {loss} | Test loss {test_loss}')\n"
      ],
      "metadata": {
        "colab": {
          "base_uri": "https://localhost:8080/"
        },
        "id": "o1-G9ITCpSCU",
        "outputId": "bc9e4aee-c2a6-4c1e-8c2c-e27ee4e74662"
      },
      "execution_count": null,
      "outputs": [
        {
          "output_type": "stream",
          "name": "stdout",
          "text": [
            "Epoch: 0 | Train loss 0.32022032141685486 | Test loss 0.7592753767967224\n",
            "Epoch: 200 | Train loss 0.09439243376255035 | Test loss 0.2199857532978058\n",
            "Epoch: 400 | Train loss 0.025705749168992043 | Test loss 0.059346459805965424\n",
            "Epoch: 600 | Train loss 0.004452228546142578 | Test loss 0.010926103219389915\n",
            "Epoch: 800 | Train loss 0.004452228546142578 | Test loss 0.010926103219389915\n",
            "Epoch: 1000 | Train loss 0.004452228546142578 | Test loss 0.010926103219389915\n",
            "Epoch: 1200 | Train loss 0.004452228546142578 | Test loss 0.010926103219389915\n",
            "Epoch: 1400 | Train loss 0.004452228546142578 | Test loss 0.010926103219389915\n",
            "Epoch: 1600 | Train loss 0.004452228546142578 | Test loss 0.010926103219389915\n",
            "Epoch: 1800 | Train loss 0.004452228546142578 | Test loss 0.010926103219389915\n",
            "Epoch: 2000 | Train loss 0.004452228546142578 | Test loss 0.010926103219389915\n",
            "Epoch: 2200 | Train loss 0.004452228546142578 | Test loss 0.010926103219389915\n",
            "Epoch: 2400 | Train loss 0.004452228546142578 | Test loss 0.010926103219389915\n",
            "Epoch: 2600 | Train loss 0.004452228546142578 | Test loss 0.010926103219389915\n",
            "Epoch: 2800 | Train loss 0.004452228546142578 | Test loss 0.010926103219389915\n",
            "Epoch: 3000 | Train loss 0.004452228546142578 | Test loss 0.010926103219389915\n",
            "Epoch: 3200 | Train loss 0.004452228546142578 | Test loss 0.010926103219389915\n",
            "Epoch: 3400 | Train loss 0.004452228546142578 | Test loss 0.010926103219389915\n",
            "Epoch: 3600 | Train loss 0.004452228546142578 | Test loss 0.010926103219389915\n",
            "Epoch: 3800 | Train loss 0.004452228546142578 | Test loss 0.010926103219389915\n",
            "Epoch: 4000 | Train loss 0.004452228546142578 | Test loss 0.010926103219389915\n",
            "Epoch: 4200 | Train loss 0.004452228546142578 | Test loss 0.010926103219389915\n",
            "Epoch: 4400 | Train loss 0.004452228546142578 | Test loss 0.010926103219389915\n",
            "Epoch: 4600 | Train loss 0.004452228546142578 | Test loss 0.010926103219389915\n",
            "Epoch: 4800 | Train loss 0.004452228546142578 | Test loss 0.010926103219389915\n",
            "Epoch: 5000 | Train loss 0.004452228546142578 | Test loss 0.010926103219389915\n",
            "Epoch: 5200 | Train loss 0.004452228546142578 | Test loss 0.010926103219389915\n",
            "Epoch: 5400 | Train loss 0.004452228546142578 | Test loss 0.010926103219389915\n",
            "Epoch: 5600 | Train loss 0.004452228546142578 | Test loss 0.010926103219389915\n",
            "Epoch: 5800 | Train loss 0.004452228546142578 | Test loss 0.010926103219389915\n",
            "Epoch: 6000 | Train loss 0.004452228546142578 | Test loss 0.010926103219389915\n",
            "Epoch: 6200 | Train loss 0.004452228546142578 | Test loss 0.010926103219389915\n",
            "Epoch: 6400 | Train loss 0.004452228546142578 | Test loss 0.010926103219389915\n",
            "Epoch: 6600 | Train loss 0.004452228546142578 | Test loss 0.010926103219389915\n",
            "Epoch: 6800 | Train loss 0.004452228546142578 | Test loss 0.010926103219389915\n",
            "Epoch: 7000 | Train loss 0.004452228546142578 | Test loss 0.010926103219389915\n",
            "Epoch: 7200 | Train loss 0.004452228546142578 | Test loss 0.010926103219389915\n",
            "Epoch: 7400 | Train loss 0.004452228546142578 | Test loss 0.010926103219389915\n",
            "Epoch: 7600 | Train loss 0.004452228546142578 | Test loss 0.010926103219389915\n",
            "Epoch: 7800 | Train loss 0.004452228546142578 | Test loss 0.010926103219389915\n",
            "Epoch: 8000 | Train loss 0.004452228546142578 | Test loss 0.010926103219389915\n",
            "Epoch: 8200 | Train loss 0.004452228546142578 | Test loss 0.010926103219389915\n",
            "Epoch: 8400 | Train loss 0.004452228546142578 | Test loss 0.010926103219389915\n",
            "Epoch: 8600 | Train loss 0.004452228546142578 | Test loss 0.010926103219389915\n",
            "Epoch: 8800 | Train loss 0.004452228546142578 | Test loss 0.010926103219389915\n",
            "Epoch: 9000 | Train loss 0.004452228546142578 | Test loss 0.010926103219389915\n",
            "Epoch: 9200 | Train loss 0.004452228546142578 | Test loss 0.010926103219389915\n",
            "Epoch: 9400 | Train loss 0.004452228546142578 | Test loss 0.010926103219389915\n",
            "Epoch: 9600 | Train loss 0.004452228546142578 | Test loss 0.010926103219389915\n",
            "Epoch: 9800 | Train loss 0.004452228546142578 | Test loss 0.010926103219389915\n",
            "Epoch: 10000 | Train loss 0.004452228546142578 | Test loss 0.010926103219389915\n",
            "Epoch: 10200 | Train loss 0.004452228546142578 | Test loss 0.010926103219389915\n",
            "Epoch: 10400 | Train loss 0.004452228546142578 | Test loss 0.010926103219389915\n",
            "Epoch: 10600 | Train loss 0.004452228546142578 | Test loss 0.010926103219389915\n",
            "Epoch: 10800 | Train loss 0.004452228546142578 | Test loss 0.010926103219389915\n",
            "Epoch: 11000 | Train loss 0.004452228546142578 | Test loss 0.010926103219389915\n",
            "Epoch: 11200 | Train loss 0.004452228546142578 | Test loss 0.010926103219389915\n",
            "Epoch: 11400 | Train loss 0.004452228546142578 | Test loss 0.010926103219389915\n",
            "Epoch: 11600 | Train loss 0.004452228546142578 | Test loss 0.010926103219389915\n",
            "Epoch: 11800 | Train loss 0.004452228546142578 | Test loss 0.010926103219389915\n",
            "Epoch: 12000 | Train loss 0.004452228546142578 | Test loss 0.010926103219389915\n",
            "Epoch: 12200 | Train loss 0.004452228546142578 | Test loss 0.010926103219389915\n",
            "Epoch: 12400 | Train loss 0.004452228546142578 | Test loss 0.010926103219389915\n",
            "Epoch: 12600 | Train loss 0.004452228546142578 | Test loss 0.010926103219389915\n",
            "Epoch: 12800 | Train loss 0.004452228546142578 | Test loss 0.010926103219389915\n",
            "Epoch: 13000 | Train loss 0.004452228546142578 | Test loss 0.010926103219389915\n",
            "Epoch: 13200 | Train loss 0.004452228546142578 | Test loss 0.010926103219389915\n",
            "Epoch: 13400 | Train loss 0.004452228546142578 | Test loss 0.010926103219389915\n",
            "Epoch: 13600 | Train loss 0.004452228546142578 | Test loss 0.010926103219389915\n",
            "Epoch: 13800 | Train loss 0.004452228546142578 | Test loss 0.010926103219389915\n",
            "Epoch: 14000 | Train loss 0.004452228546142578 | Test loss 0.010926103219389915\n",
            "Epoch: 14200 | Train loss 0.004452228546142578 | Test loss 0.010926103219389915\n",
            "Epoch: 14400 | Train loss 0.004452228546142578 | Test loss 0.010926103219389915\n",
            "Epoch: 14600 | Train loss 0.004452228546142578 | Test loss 0.010926103219389915\n",
            "Epoch: 14800 | Train loss 0.004452228546142578 | Test loss 0.010926103219389915\n",
            "Epoch: 15000 | Train loss 0.004452228546142578 | Test loss 0.010926103219389915\n",
            "Epoch: 15200 | Train loss 0.004452228546142578 | Test loss 0.010926103219389915\n",
            "Epoch: 15400 | Train loss 0.004452228546142578 | Test loss 0.010926103219389915\n",
            "Epoch: 15600 | Train loss 0.004452228546142578 | Test loss 0.010926103219389915\n",
            "Epoch: 15800 | Train loss 0.004452228546142578 | Test loss 0.010926103219389915\n",
            "Epoch: 16000 | Train loss 0.004452228546142578 | Test loss 0.010926103219389915\n",
            "Epoch: 16200 | Train loss 0.004452228546142578 | Test loss 0.010926103219389915\n",
            "Epoch: 16400 | Train loss 0.004452228546142578 | Test loss 0.010926103219389915\n",
            "Epoch: 16600 | Train loss 0.004452228546142578 | Test loss 0.010926103219389915\n",
            "Epoch: 16800 | Train loss 0.004452228546142578 | Test loss 0.010926103219389915\n",
            "Epoch: 17000 | Train loss 0.004452228546142578 | Test loss 0.010926103219389915\n",
            "Epoch: 17200 | Train loss 0.004452228546142578 | Test loss 0.010926103219389915\n",
            "Epoch: 17400 | Train loss 0.004452228546142578 | Test loss 0.010926103219389915\n",
            "Epoch: 17600 | Train loss 0.004452228546142578 | Test loss 0.010926103219389915\n",
            "Epoch: 17800 | Train loss 0.004452228546142578 | Test loss 0.010926103219389915\n",
            "Epoch: 18000 | Train loss 0.004452228546142578 | Test loss 0.010926103219389915\n",
            "Epoch: 18200 | Train loss 0.004452228546142578 | Test loss 0.010926103219389915\n",
            "Epoch: 18400 | Train loss 0.004452228546142578 | Test loss 0.010926103219389915\n",
            "Epoch: 18600 | Train loss 0.004452228546142578 | Test loss 0.010926103219389915\n",
            "Epoch: 18800 | Train loss 0.004452228546142578 | Test loss 0.010926103219389915\n",
            "Epoch: 19000 | Train loss 0.004452228546142578 | Test loss 0.010926103219389915\n",
            "Epoch: 19200 | Train loss 0.004452228546142578 | Test loss 0.010926103219389915\n",
            "Epoch: 19400 | Train loss 0.004452228546142578 | Test loss 0.010926103219389915\n",
            "Epoch: 19600 | Train loss 0.004452228546142578 | Test loss 0.010926103219389915\n",
            "Epoch: 19800 | Train loss 0.004452228546142578 | Test loss 0.010926103219389915\n"
          ]
        }
      ]
    },
    {
      "cell_type": "code",
      "source": [
        "# fifnd out the model learned  parameters\n",
        "\n",
        "from pprint import pprint # pprint = pretty print, see: https://docs.python.org/3/library/pprint.html\n",
        "print('The model learned the following values for weights a nd bias:')\n",
        "pprint(model_1.state_dict())\n",
        "print('\\nAnd the original values for weights and bias are ;')\n",
        "print(f'Weights;{weight}, bias:{bias}')"
      ],
      "metadata": {
        "colab": {
          "base_uri": "https://localhost:8080/"
        },
        "id": "f3D2lXFgvHrz",
        "outputId": "c02d1c24-2f02-4da8-dbf6-2a911926d5bc"
      },
      "execution_count": null,
      "outputs": [
        {
          "output_type": "stream",
          "name": "stdout",
          "text": [
            "The model learned the following values for weights a nd bias:\n",
            "OrderedDict([('linear_layer.weight', tensor([[0.8962]])),\n",
            "             ('linear_layer.bias', tensor([0.5059]))])\n",
            "\n",
            "And the original values for weights and bias are ;\n",
            "Weights;0.9, bias:0.5\n"
          ]
        }
      ]
    },
    {
      "cell_type": "markdown",
      "source": [
        "# 6.4 Making predictions"
      ],
      "metadata": {
        "id": "yG71mK8UZhrB"
      }
    },
    {
      "cell_type": "code",
      "source": [
        "# Turn the model into evaluation mode\n",
        "model_1.eval()\n",
        "# make predictions on the test data\n",
        "with torch.inference_mode():\n",
        "  y_preds = model_1(x_test)\n",
        "y_preds\n"
      ],
      "metadata": {
        "colab": {
          "base_uri": "https://localhost:8080/"
        },
        "id": "koHX12bHWwSZ",
        "outputId": "e9d0ec4f-ca4a-4106-ef41-54354912d39d"
      },
      "execution_count": null,
      "outputs": [
        {
          "output_type": "execute_result",
          "data": {
            "text/plain": [
              "tensor([[1.2229],\n",
              "        [1.2408],\n",
              "        [1.2587],\n",
              "        [1.2767],\n",
              "        [1.2946],\n",
              "        [1.3125],\n",
              "        [1.3304],\n",
              "        [1.3484],\n",
              "        [1.3663],\n",
              "        [1.3842]])"
            ]
          },
          "metadata": {},
          "execution_count": 91
        }
      ]
    },
    {
      "cell_type": "code",
      "source": [
        "# plot_predictions(predictions=y_preds) # -> won't work... data not on CPU\n",
        "\n",
        "# Put data on the CPU and plot it\n",
        "plot_predictions(predictions=y_preds.cpu())"
      ],
      "metadata": {
        "colab": {
          "base_uri": "https://localhost:8080/",
          "height": 599
        },
        "id": "hm3wVvslaEv_",
        "outputId": "dbdccac8-acea-4146-f482-76ea71c2161d"
      },
      "execution_count": null,
      "outputs": [
        {
          "output_type": "display_data",
          "data": {
            "text/plain": [
              "<Figure size 1000x700 with 1 Axes>"
            ],
            "image/png": "[encoded data removed]"
          },
          "metadata": {}
        }
      ]
    },
    {
      "cell_type": "code",
      "source": [],
      "metadata": {
        "id": "iT86UU0dacXt"
      },
      "execution_count": null,
      "outputs": []
    },
    {
      "cell_type": "markdown",
      "source": [
        "# 6.5 Saving and loading a model"
      ],
      "metadata": {
        "id": "0FnrHx4Qa6ip"
      }
    },
    {
      "cell_type": "code",
      "source": [
        "from pathlib import Path\n",
        "#1. Creat the model directory\n",
        "MODEL_PATH = Path('models')\n",
        "MODEL_PATH.mkdir(parents = True, exist_ok=True)\n",
        "# 2. create model save path\n",
        "MODEL_NAME =\"01_pytorch_workflow_model_1.pth\"\n",
        "MODEL_SAVE_PATH = MODEL_PATH/MODEL_NAME\n",
        "\n",
        "#3. save the model state dict\n",
        "print(f'Saving model to: {MODEL_SAVE_PATH}')\n",
        "\n",
        "torch.save(obj = model_1.state_dict(),# only saving the state_dict() only saves the models learned parameters\n",
        "           f = MODEL_SAVE_PATH)"
      ],
      "metadata": {
        "colab": {
          "base_uri": "https://localhost:8080/"
        },
        "id": "GbIrlgeqbJmX",
        "outputId": "40eb4171-f4d0-46c3-f14e-58466434df08"
      },
      "execution_count": null,
      "outputs": [
        {
          "output_type": "stream",
          "name": "stdout",
          "text": [
            "Saving model to: models/01_pytorch_workflow_model_1.pth\n"
          ]
        }
      ]
    },
    {
      "cell_type": "markdown",
      "source": [
        "Loading back to see if it worked"
      ],
      "metadata": {
        "id": "tgtNGGlCdWek"
      }
    },
    {
      "cell_type": "code",
      "source": [
        "# Instantiate a fresh instance of LinearRegressionModelV2\n",
        "loaded_model_1 = LinearRegressionModelV2()\n",
        "\n",
        "# Load model state dict\n",
        "loaded_model_1.load_state_dict(torch.load(MODEL_SAVE_PATH))\n",
        "\n",
        "# Put model to target device (if your data is on GPU, model will have to be on GPU to make predictions)\n",
        "loaded_model_1.to(device)\n",
        "\n",
        "print(f\"Loaded model:\\n{loaded_model_1}\")\n",
        "print(f\"Model on device:\\n{next(loaded_model_1.parameters()).device}\")"
      ],
      "metadata": {
        "colab": {
          "base_uri": "https://localhost:8080/"
        },
        "id": "BLhMO9W2c69V",
        "outputId": "1a7b0512-cbe0-4a75-9ba2-7d54880a0b38"
      },
      "execution_count": null,
      "outputs": [
        {
          "output_type": "stream",
          "name": "stdout",
          "text": [
            "Loaded model:\n",
            "LinearRegressionModelV2(\n",
            "  (linear_layer): Linear(in_features=1, out_features=1, bias=True)\n",
            ")\n",
            "Model on device:\n",
            "cpu\n"
          ]
        }
      ]
    },
    {
      "cell_type": "code",
      "source": [
        "# Evaluate loaded model\n",
        "loaded_model_1.eval()\n",
        "with torch.inference_mode():\n",
        "    loaded_model_1_preds = loaded_model_1(X_test)\n",
        "y_preds == loaded_model_1_preds"
      ],
      "metadata": {
        "colab": {
          "base_uri": "https://localhost:8080/"
        },
        "id": "fk-DaZAcdawk",
        "outputId": "1759f23b-674c-4f0e-af98-59f7a02a7638"
      },
      "execution_count": null,
      "outputs": [
        {
          "output_type": "execute_result",
          "data": {
            "text/plain": [
              "tensor([[True],\n",
              "        [True],\n",
              "        [True],\n",
              "        [True],\n",
              "        [True],\n",
              "        [True],\n",
              "        [True],\n",
              "        [True],\n",
              "        [True],\n",
              "        [True]])"
            ]
          },
          "metadata": {},
          "execution_count": 95
        }
      ]
    },
    {
      "cell_type": "code",
      "source": [],
      "metadata": {
        "id": "IFAZCzm1df4t"
      },
      "execution_count": null,
      "outputs": []
    },
    {
      "cell_type": "markdown",
      "source": [
        "# **EXERCISE**"
      ],
      "metadata": {
        "id": "zu77Lf9GdhO5"
      }
    },
    {
      "cell_type": "code",
      "source": [
        "import matplotlib.pyplot as plt\n",
        "from torch import nn\n",
        "import torch"
      ],
      "metadata": {
        "id": "RQbUNvF0dl3P"
      },
      "execution_count": null,
      "outputs": []
    },
    {
      "cell_type": "code",
      "source": [
        "# Setting up agnostic code\n",
        "device = 'cuda' if torch.cuda.is_available() else 'cpu'\n",
        "print(f'Using device:{device}')"
      ],
      "metadata": {
        "colab": {
          "base_uri": "https://localhost:8080/"
        },
        "id": "RpiFOgUHeCUk",
        "outputId": "23a2270e-5c69-4b36-9e32-45c15bb86899"
      },
      "execution_count": null,
      "outputs": [
        {
          "output_type": "stream",
          "name": "stdout",
          "text": [
            "Using device:cpu\n"
          ]
        }
      ]
    },
    {
      "cell_type": "code",
      "source": [
        "weight = 0.3\n",
        "bias = 0.9\n",
        "\n",
        "# creating range for the values\n",
        "\n",
        "start =0\n",
        "end = 10\n",
        "step = 0.02\n",
        "# # Create X and y (features and labels)\n",
        "x = torch.arange(start,end,step).unsqueeze(dim=1) # without unsqueeze, errors will happen later on (shapes within linear layers)\n",
        "y = weight*x + bias\n",
        "x[:10],y[:10]"
      ],
      "metadata": {
        "colab": {
          "base_uri": "https://localhost:8080/"
        },
        "id": "oqXS9jbledDx",
        "outputId": "ae578e61-2068-4c09-e5dc-81e1f53586af"
      },
      "execution_count": null,
      "outputs": [
        {
          "output_type": "execute_result",
          "data": {
            "text/plain": [
              "(tensor([[0.0000],\n",
              "         [0.0200],\n",
              "         [0.0400],\n",
              "         [0.0600],\n",
              "         [0.0800],\n",
              "         [0.1000],\n",
              "         [0.1200],\n",
              "         [0.1400],\n",
              "         [0.1600],\n",
              "         [0.1800]]),\n",
              " tensor([[0.9000],\n",
              "         [0.9060],\n",
              "         [0.9120],\n",
              "         [0.9180],\n",
              "         [0.9240],\n",
              "         [0.9300],\n",
              "         [0.9360],\n",
              "         [0.9420],\n",
              "         [0.9480],\n",
              "         [0.9540]]))"
            ]
          },
          "metadata": {},
          "execution_count": 98
        }
      ]
    },
    {
      "cell_type": "code",
      "source": [],
      "metadata": {
        "id": "Z0z9TfovkHCg"
      },
      "execution_count": null,
      "outputs": []
    },
    {
      "cell_type": "code",
      "source": [
        "#import numpy as np\n",
        "#train , valid, test = np.split(df.sample(frac=1), [int(0.6*len(df)),int(0.8*len(df))])\n",
        "\n",
        "# Split data\n",
        "train_split = int(0.8 * len(x))\n",
        "Xtrain, ytrain = x[:train_split], y[:train_split]\n",
        "Xtest, ytest = x[train_split:], y[train_split:]\n",
        "\n",
        "len(Xtrain), len(ytrain), len(Xtest), len(ytest)\n"
      ],
      "metadata": {
        "colab": {
          "base_uri": "https://localhost:8080/"
        },
        "id": "Bd5XKyN-hRxL",
        "outputId": "098479c0-c7b0-4acf-a309-76b4d7433dee"
      },
      "execution_count": null,
      "outputs": [
        {
          "output_type": "execute_result",
          "data": {
            "text/plain": [
              "(400, 400, 100, 100)"
            ]
          },
          "metadata": {},
          "execution_count": 99
        }
      ]
    },
    {
      "cell_type": "code",
      "source": [
        "def plot_predictions(train_data=Xtrain,\n",
        "                     train_labels=ytrain,\n",
        "                     test_data=Xtest,\n",
        "                     test_labels=ytest,\n",
        "                     predictions=None):\n",
        "  \"\"\"\n",
        "  Plots training data, test data and compares predictions.\n",
        "  \"\"\"\n",
        "  plt.figure(figsize=(10, 7))\n",
        "\n",
        "  # Plot training data in blue\n",
        "  plt.scatter(train_data, train_labels, c=\"r\", s=4, label=\"Training data\")\n",
        "\n",
        "  # Plot test data in green\n",
        "  plt.scatter(test_data, test_labels, c=\"g\", s=4, label=\"Testing data\")\n",
        "\n",
        "  if predictions is not None:\n",
        "    # Plot the predictions in red (predictions were made on the test data)\n",
        "    plt.scatter(test_data, predictions, c=\"b\", s=4, label=\"Predictions\")\n",
        "\n",
        "  # Show the legend\n",
        "  plt.legend(prop={\"size\": 14});"
      ],
      "metadata": {
        "id": "zq4BxAcOi0gJ"
      },
      "execution_count": null,
      "outputs": []
    },
    {
      "cell_type": "code",
      "source": [
        "# Note: If you've reset your runtime, this function won't work,\n",
        "# you'll have to rerun the cell above where it's instantiated.\n",
        "plot_predictions(Xtrain, ytrain, Xtest, ytest)"
      ],
      "metadata": {
        "colab": {
          "base_uri": "https://localhost:8080/",
          "height": 599
        },
        "id": "8G5LhHebkIv_",
        "outputId": "6841392b-452a-4544-8874-d6136fd36e77"
      },
      "execution_count": null,
      "outputs": [
        {
          "output_type": "display_data",
          "data": {
            "text/plain": [
              "<Figure size 1000x700 with 1 Axes>"
            ],
            "image/png": "[encoded data removed]"
          },
          "metadata": {}
        }
      ]
    },
    {
      "cell_type": "code",
      "source": [
        "# Building a Pytorch linear model\n",
        "\n",
        "class LinearRegressionModelV2(nn.Module):\n",
        "  def __init__(self)-> None:\n",
        "    super().__init__()\n",
        "    # using nn.Linear() for creating the model parameters\n",
        "    self.linear_layer = nn.Linear(in_features=1,\n",
        "                                  out_features=1)\n",
        "    # Define the forward computation (input data x flows through nn.Linear())\n",
        "  def forward(self,x: torch.Tensor) -> torch.Tensor:\n",
        "   return self.linear_layer(x)\n",
        "\n",
        "torch.manual_seed(0)\n",
        "model_r = LinearRegressionModelV2()\n",
        "model_r,model_r.state_dict()"
      ],
      "metadata": {
        "colab": {
          "base_uri": "https://localhost:8080/"
        },
        "id": "hj9kavTykTO9",
        "outputId": "5285d2c9-f836-46ba-c785-a9ee183a567a"
      },
      "execution_count": null,
      "outputs": [
        {
          "output_type": "execute_result",
          "data": {
            "text/plain": [
              "(LinearRegressionModelV2(\n",
              "   (linear_layer): Linear(in_features=1, out_features=1, bias=True)\n",
              " ),\n",
              " OrderedDict([('linear_layer.weight', tensor([[-0.0075]])),\n",
              "              ('linear_layer.bias', tensor([0.5364]))]))"
            ]
          },
          "metadata": {},
          "execution_count": 114
        }
      ]
    },
    {
      "cell_type": "code",
      "source": [
        "# Training the model\n",
        "\n",
        "loss_fnn = nn.L1Loss()\n",
        "optimizer= torch.optim.SGD(params = model_r.parameters(),\n",
        "                           lr = 0.001)"
      ],
      "metadata": {
        "id": "JFRf_kUHqvW-"
      },
      "execution_count": null,
      "outputs": []
    },
    {
      "cell_type": "code",
      "source": [
        "torch.manual_seed(0)\n",
        "\n",
        "# set the number of epochs\n",
        "epochs = 1000\n",
        "\n",
        "# Put data on the available device\n",
        "# Without this, error will happen (not all model/data on device)\n",
        "\n",
        "Xtrain = Xtrain.to(device)\n",
        "Xtest = Xtest.to(device)\n",
        "\n",
        "ytrain = ytrain.to(device)\n",
        "ytest = ytest.to(device)\n",
        "\n",
        "\n",
        "for epoch in range(epochs):\n",
        "  model_r.train() # train mode is on by default after construction\n",
        "\n",
        "  # Forward pass\n",
        "  y_pred = model_r(Xtrain)\n",
        "  loss = loss_fnn(y_pred,ytrain)# 2 Calcukate loss\n",
        "\n",
        "  optimizer.zero_grad()#3 zero grad optimzer\n",
        "  loss.backward() # 4 Loss backward\n",
        "\n",
        "  optimizer.step()# 5. Step optimizer\n",
        "\n",
        "  model_r.eval() # put the model in evaluation mode for testing (inference)\n",
        "    # r. Forward pass\n",
        "\n",
        "  with torch.inference_mode():\n",
        "    test_pred = model_r(Xtest)\n",
        "    # Calculate the loss\n",
        "    test_loss = loss_fnn(test_pred , ytest)\n",
        "\n",
        "  if epoch % 500 == 0:\n",
        "    print(f'Epoch: {epoch} | Train loss {loss} | Test loss {test_loss}')\n"
      ],
      "metadata": {
        "colab": {
          "base_uri": "https://localhost:8080/"
        },
        "id": "7IjnLsq-r7-7",
        "outputId": "29cfc38f-4dea-4b26-b1a5-9678d64a50d3"
      },
      "execution_count": null,
      "outputs": [
        {
          "output_type": "stream",
          "name": "stdout",
          "text": [
            "Epoch: 0 | Train loss 1.5904289484024048 | Test loss 3.1278631687164307\n",
            "Epoch: 500 | Train loss 1.5904289484024048 | Test loss 3.1278631687164307\n"
          ]
        }
      ]
    },
    {
      "cell_type": "code",
      "source": [
        "# Find our model's learned parameters\n",
        "from pprint import pprint # pprint = pretty print, see: https://docs.python.org/3/library/pprint.html\n",
        "print(\"The model learned the following values for weights and bias:\")\n",
        "pprint(model_r.state_dict())\n",
        "print(\"\\nAnd the original values for weights and bias are:\")\n",
        "print(f\"weights: {weight}, bias: {bias}\")"
      ],
      "metadata": {
        "colab": {
          "base_uri": "https://localhost:8080/"
        },
        "id": "8SauOWtwwf05",
        "outputId": "1debbd23-a53c-4b6b-9626-cd5b3ca9fa4e"
      },
      "execution_count": null,
      "outputs": [
        {
          "output_type": "stream",
          "name": "stdout",
          "text": [
            "The model learned the following values for weights and bias:\n",
            "OrderedDict([('linear_layer.weight', tensor([[-0.0075]])),\n",
            "             ('linear_layer.bias', tensor([0.5364]))])\n",
            "\n",
            "And the original values for weights and bias are:\n",
            "weights: 0.3, bias: 0.9\n"
          ]
        }
      ]
    },
    {
      "cell_type": "code",
      "source": [
        "# Making plot_predictions\n",
        "# Turn model into evaluation mode\n",
        "model_r.eval()\n",
        "\n",
        "# Make predictions on the test data\n",
        "with torch.inference_mode():\n",
        "    y_pred = model_r(Xtest)\n",
        "y_preds"
      ],
      "metadata": {
        "colab": {
          "base_uri": "https://localhost:8080/"
        },
        "id": "I1GFklV8wlIb",
        "outputId": "76602bc7-ebe4-4202-d6e9-70e4fd8947fe"
      },
      "execution_count": null,
      "outputs": [
        {
          "output_type": "execute_result",
          "data": {
            "text/plain": [
              "tensor([[1.2229],\n",
              "        [1.2408],\n",
              "        [1.2587],\n",
              "        [1.2767],\n",
              "        [1.2946],\n",
              "        [1.3125],\n",
              "        [1.3304],\n",
              "        [1.3484],\n",
              "        [1.3663],\n",
              "        [1.3842]])"
            ]
          },
          "metadata": {},
          "execution_count": 121
        }
      ]
    },
    {
      "cell_type": "code",
      "source": [
        "# plot_predictions(predictions=y_preds) # -> won't work... data not on CPU\n",
        "\n",
        "# Put data on the CPU and plot it\n",
        "plot_predictions(predictions=y_pred.cpu())"
      ],
      "metadata": {
        "colab": {
          "base_uri": "https://localhost:8080/",
          "height": 599
        },
        "id": "ENdT6L0RxGDa",
        "outputId": "472e8182-f421-4350-af41-7c1c68c5f21e"
      },
      "execution_count": null,
      "outputs": [
        {
          "output_type": "display_data",
          "data": {
            "text/plain": [
              "<Figure size 1000x700 with 1 Axes>"
            ],
            "image/png": "[encoded data removed]"
          },
          "metadata": {}
        }
      ]
    },
    {
      "cell_type": "code",
      "source": [],
      "metadata": {
        "id": "ZnrY9DzdxGvS"
      },
      "execution_count": null,
      "outputs": []
    }
  ]
}